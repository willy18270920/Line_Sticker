{
 "cells": [
  {
   "cell_type": "code",
   "execution_count": null,
   "id": "128346e6",
   "metadata": {},
   "outputs": [],
   "source": [
    "import requests as req\n",
    "import os, json\n",
    "from bs4 import BeautifulSoup as bs\n",
    "from fake_useragent import UserAgent\n",
    "ua = UserAgent()\n",
    "\n",
    "# 建立資料夾，不存在就新增\n",
    "folderPath = 'Line_Sticker'\n",
    "if not os.path.exists(folderPath):\n",
    "    os.makedirs(folderPath)\n",
    "    \n",
    "\n",
    "listSticker = []\n",
    "\n",
    "\n",
    "my_headers = {\n",
    "    'user-agent': ua.random\n",
    "}\n",
    "\n",
    "url = 'https://store.line.me/stickershop/product/22567846/zh-Hant?utm_source=gnsh_stickerDetail'\n",
    "res = req.get(url)\n",
    "soup = bs(res.text, 'lxml')\n",
    "\n",
    "li_elements = soup.select(\"ul.mdCMN09Ul.FnStickerList > li.mdCMN09Li.FnStickerPreviewItem\")\n",
    "\n",
    "for li in li_elements:\n",
    "    strJson = li['data-preview']\n",
    "    obj = json.loads(strJson)\n",
    "    listLineStickers.append(obj)\n",
    "\n",
    "# 下載圖片\n",
    "for obj in listLineStickers: \n",
    "    os.system(f\"curl {obj['staticUrl']} -o {folderPath}/{obj['id']}.png\")\n",
    "    print(f\"貼圖ID: {obj['id']}, 下載連結: {obj['staticUrl']}\")"
   ]
  }
 ],
 "metadata": {
  "kernelspec": {
   "display_name": "Python3@da",
   "language": "python",
   "name": "da"
  },
  "language_info": {
   "codemirror_mode": {
    "name": "ipython",
    "version": 3
   },
   "file_extension": ".py",
   "mimetype": "text/x-python",
   "name": "python",
   "nbconvert_exporter": "python",
   "pygments_lexer": "ipython3",
   "version": "3.10.12"
  }
 },
 "nbformat": 4,
 "nbformat_minor": 5
}
